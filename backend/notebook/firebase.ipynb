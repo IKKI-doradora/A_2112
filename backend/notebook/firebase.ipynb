{
 "cells": [
  {
   "cell_type": "code",
   "execution_count": 1,
   "metadata": {},
   "outputs": [
    {
     "name": "stdout",
     "output_type": "stream",
     "text": [
      "<Bucket: doradora-e51d2.appspot.com>\n"
     ]
    }
   ],
   "source": [
    "import firebase_admin\n",
    "from firebase_admin import credentials\n",
    "from firebase_admin import storage\n",
    "\n",
    "cred = credentials.Certificate('../img_proc_server/app/doradora-admin.json')\n",
    "firebase_admin.initialize_app(cred, {\n",
    "    'storageBucket': 'doradora-e51d2.appspot.com',\n",
    "    'databaseURL': 'https://doradora-e51d2-default-rtdb.asia-southeast1.firebasedatabase.app/',\n",
    "\n",
    "})\n",
    "\n",
    "bucket = storage.bucket()\n",
    "\n",
    "print(bucket)"
   ]
  },
  {
   "cell_type": "code",
   "execution_count": 75,
   "metadata": {},
   "outputs": [
    {
     "name": "stdout",
     "output_type": "stream",
     "text": [
      "test_dir/test_file_1.txt\n",
      "user-form/\n"
     ]
    }
   ],
   "source": [
    "# for blob in bucket.list_blobs():\n",
    "#     print(blob.name)"
   ]
  },
  {
   "cell_type": "code",
   "execution_count": 97,
   "metadata": {},
   "outputs": [],
   "source": [
    "def make_form_storage_url(db_path):\n",
    "    return 'form-videos/'+'/'.join(db_path.split('/')[2:])"
   ]
  },
  {
   "cell_type": "markdown",
   "metadata": {},
   "source": [
    "# 実際の処理\n",
    "初期化後"
   ]
  },
  {
   "cell_type": "code",
   "execution_count": 100,
   "metadata": {},
   "outputs": [
    {
     "data": {
      "text/plain": [
       "'4r7K0FAau3hkQI7l9SnCC3iYcje2'"
      ]
     },
     "execution_count": 100,
     "metadata": {},
     "output_type": "execute_result"
    }
   ],
   "source": [
    "uid"
   ]
  },
  {
   "cell_type": "markdown",
   "metadata": {},
   "source": [
    "## db "
   ]
  },
  {
   "cell_type": "code",
   "execution_count": 99,
   "metadata": {},
   "outputs": [],
   "source": [
    "forms_ref = db.reference('/forms')"
   ]
  },
  {
   "cell_type": "code",
   "execution_count": 101,
   "metadata": {},
   "outputs": [],
   "source": [
    "formid = forms_ref.child(uid).push({'backet_url':None,'uploded':False})"
   ]
  },
  {
   "cell_type": "code",
   "execution_count": 103,
   "metadata": {},
   "outputs": [
    {
     "data": {
      "text/plain": [
       "'/forms/4r7K0FAau3hkQI7l9SnCC3iYcje2/-MosI5MyEuXd9CdLaYDb'"
      ]
     },
     "execution_count": 103,
     "metadata": {},
     "output_type": "execute_result"
    }
   ],
   "source": [
    "formid.path"
   ]
  },
  {
   "cell_type": "markdown",
   "metadata": {},
   "source": [
    "## uplaod video"
   ]
  },
  {
   "cell_type": "code",
   "execution_count": 104,
   "metadata": {},
   "outputs": [],
   "source": [
    "# upload video"
   ]
  },
  {
   "cell_type": "code",
   "execution_count": 114,
   "metadata": {},
   "outputs": [],
   "source": [
    "video_file_path = 'test_file_1.txt'\n",
    "video_file_path = '/Volumes/GoogleDrive/共有ドライブ/doradora-JPHacks2021/video/train-clip/train00005337_V1-0001.mp4'"
   ]
  },
  {
   "cell_type": "code",
   "execution_count": 118,
   "metadata": {},
   "outputs": [],
   "source": [
    "blob_dest = make_form_storage_url(formid.path)"
   ]
  },
  {
   "cell_type": "code",
   "execution_count": 119,
   "metadata": {},
   "outputs": [],
   "source": [
    "blob = bucket.blob(blob_dest)"
   ]
  },
  {
   "cell_type": "code",
   "execution_count": 120,
   "metadata": {},
   "outputs": [
    {
     "name": "stdout",
     "output_type": "stream",
     "text": [
      "上書きしてしまうよ\n"
     ]
    }
   ],
   "source": [
    "if(blob.exists()):\n",
    "    print('上書きしてしまうよ')"
   ]
  },
  {
   "cell_type": "code",
   "execution_count": 121,
   "metadata": {},
   "outputs": [],
   "source": [
    "blob.upload_from_filename(video_file_path)"
   ]
  },
  {
   "cell_type": "markdown",
   "metadata": {},
   "source": [
    "## ビデオ以外のデータをデータベースに登録"
   ]
  },
  {
   "cell_type": "code",
   "execution_count": 125,
   "metadata": {},
   "outputs": [],
   "source": [
    "other_data = dict()"
   ]
  },
  {
   "cell_type": "code",
   "execution_count": 126,
   "metadata": {},
   "outputs": [],
   "source": [
    "video_data = {'backet_url':blob_dest,'uploded':True}"
   ]
  },
  {
   "cell_type": "code",
   "execution_count": 127,
   "metadata": {},
   "outputs": [],
   "source": [
    "data = dict(other_data,**video_data)"
   ]
  },
  {
   "cell_type": "code",
   "execution_count": 129,
   "metadata": {},
   "outputs": [],
   "source": [
    "formid.update(data)"
   ]
  },
  {
   "cell_type": "code",
   "execution_count": null,
   "metadata": {},
   "outputs": [],
   "source": []
  },
  {
   "cell_type": "markdown",
   "metadata": {},
   "source": [
    "# 書きなぐり"
   ]
  },
  {
   "cell_type": "code",
   "execution_count": null,
   "metadata": {},
   "outputs": [],
   "source": []
  },
  {
   "cell_type": "code",
   "execution_count": 98,
   "metadata": {},
   "outputs": [
    {
     "data": {
      "text/plain": [
       "'form-videos/4r7K0FAau3hkQI7l9SnCC3iYcje2/-MosCAqgtiDrL0VAj-si'"
      ]
     },
     "execution_count": 98,
     "metadata": {},
     "output_type": "execute_result"
    }
   ],
   "source": [
    "make_form_storage_url(formid.path)"
   ]
  },
  {
   "cell_type": "code",
   "execution_count": 95,
   "metadata": {},
   "outputs": [],
   "source": [
    "b2 = bucket.blob(make_form_storage_url(formid.path))"
   ]
  },
  {
   "cell_type": "code",
   "execution_count": 96,
   "metadata": {},
   "outputs": [],
   "source": [
    "b2.upload_from_filename('test_file_1.txt')"
   ]
  },
  {
   "cell_type": "code",
   "execution_count": 43,
   "metadata": {},
   "outputs": [],
   "source": [
    "blob = bucket.blob(\"test_dir/test_file_1.txt\") # ストレージのパスを指定"
   ]
  },
  {
   "cell_type": "code",
   "execution_count": 64,
   "metadata": {},
   "outputs": [
    {
     "data": {
      "text/plain": [
       "'https://storage.googleapis.com/doradora-e51d2.appspot.com/test_dir/test_file_1.txt'"
      ]
     },
     "execution_count": 64,
     "metadata": {},
     "output_type": "execute_result"
    }
   ],
   "source": [
    "blob.public_url"
   ]
  },
  {
   "cell_type": "code",
   "execution_count": 65,
   "metadata": {},
   "outputs": [],
   "source": [
    "blob2=bucket.blob(blob.public_url)"
   ]
  },
  {
   "cell_type": "code",
   "execution_count": 66,
   "metadata": {},
   "outputs": [
    {
     "data": {
      "text/plain": [
       "False"
      ]
     },
     "execution_count": 66,
     "metadata": {},
     "output_type": "execute_result"
    }
   ],
   "source": [
    "blob2.exists()"
   ]
  },
  {
   "cell_type": "code",
   "execution_count": 44,
   "metadata": {},
   "outputs": [
    {
     "data": {
      "text/plain": [
       "<Blob: doradora-e51d2.appspot.com, test_dir/test_file_1.txt, None>"
      ]
     },
     "execution_count": 44,
     "metadata": {},
     "output_type": "execute_result"
    }
   ],
   "source": [
    "blob"
   ]
  },
  {
   "cell_type": "code",
   "execution_count": 45,
   "metadata": {},
   "outputs": [
    {
     "name": "stdout",
     "output_type": "stream",
     "text": [
      "True\n"
     ]
    }
   ],
   "source": [
    "print(blob.exists())"
   ]
  },
  {
   "cell_type": "code",
   "execution_count": 46,
   "metadata": {},
   "outputs": [],
   "source": [
    "blob.download_to_filename(\"test_file_1.txt\") # ダウンロード先のパスを指定"
   ]
  },
  {
   "cell_type": "code",
   "execution_count": 47,
   "metadata": {},
   "outputs": [],
   "source": [
    "blob.upload_from_filename(\"test_file_1.txt\") # アップロード元のパスを指定"
   ]
  },
  {
   "cell_type": "code",
   "execution_count": 48,
   "metadata": {},
   "outputs": [
    {
     "data": {
      "text/plain": [
       "<Blob: doradora-e51d2.appspot.com, test_dir/test_file_1.txt, 1637325096518848>"
      ]
     },
     "execution_count": 48,
     "metadata": {},
     "output_type": "execute_result"
    }
   ],
   "source": []
  },
  {
   "cell_type": "code",
   "execution_count": 2,
   "metadata": {},
   "outputs": [],
   "source": [
    "from firebase_admin import db"
   ]
  },
  {
   "cell_type": "code",
   "execution_count": 11,
   "metadata": {},
   "outputs": [],
   "source": [
    "users_ref = db.reference('/users')"
   ]
  },
  {
   "cell_type": "code",
   "execution_count": 8,
   "metadata": {},
   "outputs": [
    {
     "data": {
      "text/plain": [
       "{'games': {'adsfasgasdfadsfasdg': {'n_rounds': 8,\n",
       "   'type': 1,\n",
       "   'uids': {'320': {'rounds': [{'darts': [{'score': 100,\n",
       "         'x': -0.46618618773503423,\n",
       "         'y': -0.7734754826033899},\n",
       "        {'score': 10, 'x': -0.28876965185324566, 'y': 0.20159933050505202},\n",
       "        {'score': 1, 'x': 0.28876965185324566, 'y': 0.20159933050505202}],\n",
       "       'score': 46},\n",
       "      {'darts': [{'score': 0},\n",
       "        {'score': 18, 'x': 0.46015439155742566, 'y': 0.6052221496197765},\n",
       "        {'score': 0}],\n",
       "       'score': 18},\n",
       "      {'darts': [{'score': 7,\n",
       "         'x': -0.1954163177707183,\n",
       "         'y': -0.2339126413436901},\n",
       "        {'score': 9, 'x': -0.33288787739365777, 'y': 0.2786810306136564},\n",
       "        {'score': 12, 'x': -0.6986576456619012, 'y': 0.7350279743178504}],\n",
       "       'score': 28},\n",
       "      {'darts': [{'score': 0}, {'score': 0}, {'score': 0}], 'score': 0},\n",
       "      {'darts': [{'score': 0},\n",
       "        {'score': 0},\n",
       "        {'score': 19, 'x': -0.22889203962953805, 'y': -1.0064987508524577}],\n",
       "       'score': 19},\n",
       "      {'darts': [{'score': 54,\n",
       "         'x': 0.3476957273882642,\n",
       "         'y': 0.4856342367991802},\n",
       "        {'score': 19, 'x': -0.263465984983508, 'y': -0.6711711692414956},\n",
       "        {'score': 0}],\n",
       "       'score': 73},\n",
       "      {'darts': [{'score': 17,\n",
       "         'x': 0.45162593196237055,\n",
       "         'y': -0.958370636173025},\n",
       "        {'score': 45, 'x': 0.4945353888256303, 'y': -0.3742645438693057},\n",
       "        {'score': 16, 'x': -1.421039996880685, 'y': -1.1318153520935545}],\n",
       "       'score': 78},\n",
       "      {'darts': [{'score': 8,\n",
       "         'x': -1.8480034204147784,\n",
       "         'y': -0.3651867315825136},\n",
       "        {'score': 8, 'x': -1.8480034204147784, 'y': -0.3651867315825136},\n",
       "        {'score': 1, 'x': 0.47457422507186814, 'y': 0.9348581964001789}],\n",
       "       'score': 17}],\n",
       "     'totalScore': 280},\n",
       "    'uid-1': {'Positions': [[1, 2], [2, 3], [3, 4], [1, 2]],\n",
       "     'scores': [[1, 2, 3]]}}}},\n",
       " 'rooms': {'-MogBXKIoQQQ_flu-E4d': {'gameId': 'hoge',\n",
       "   'host': '320',\n",
       "   'opponent': 500}},\n",
       " 'users': {'4r7K0FAau3hkQI7l9SnCC3iYcje2': {'username': 'Anonymous'},\n",
       "  'B5igsYdZNYSJc5cVTGhm4s7I1d33': {'username': 'Anonymous'},\n",
       "  'CbIjk7gwK8XhmrY65mNivMyKi033': {'username': 'Anonymous'},\n",
       "  'KV762xkiajeSiGCO6Wshvb4qWvg1': {'username': 'Anonymous'},\n",
       "  'Pv4l9ATgthhKdvOwN84tnQKvD0S2': {'username': 'Anonymous'},\n",
       "  'Y3RZJU7Bi6MOOP9InI4RFANG4rh2': {'username': 'Anonymous'},\n",
       "  'YOAURuFePdRM6PNhphCiKQBFqdd2': {'username': 'Anonymous'},\n",
       "  'axwIGpid4YSxdCgAHxyBqyL89X22': {'username': 'Anonymous'},\n",
       "  'ccO9WSo69OeGONZyQ3LRHMsHeu93': {'username': 'Anonymous'},\n",
       "  'djiwL6qdsrceY3SL69vT92eyCq12': {'username': 'Anonymous'},\n",
       "  'oO9DrzRfbYdTmjHD8p2lvOarRSr1': {'username': 'Anonymous'},\n",
       "  'x4E4gGjx4yQrAaK3nqxPoMbg5hq1': {'username': 'Anonymous'}}}"
      ]
     },
     "execution_count": 8,
     "metadata": {},
     "output_type": "execute_result"
    }
   ],
   "source": [
    "users_ref.get()"
   ]
  },
  {
   "cell_type": "code",
   "execution_count": 12,
   "metadata": {},
   "outputs": [],
   "source": [
    "forms_ref = db.reference('/forms')"
   ]
  },
  {
   "cell_type": "code",
   "execution_count": 14,
   "metadata": {},
   "outputs": [],
   "source": [
    "users = users_ref.get()"
   ]
  },
  {
   "cell_type": "code",
   "execution_count": 28,
   "metadata": {},
   "outputs": [],
   "source": [
    "uid = next(iter(users))"
   ]
  },
  {
   "cell_type": "code",
   "execution_count": 67,
   "metadata": {},
   "outputs": [
    {
     "data": {
      "text/plain": [
       "'4r7K0FAau3hkQI7l9SnCC3iYcje2'"
      ]
     },
     "execution_count": 67,
     "metadata": {},
     "output_type": "execute_result"
    }
   ],
   "source": [
    "uid"
   ]
  },
  {
   "cell_type": "code",
   "execution_count": 68,
   "metadata": {},
   "outputs": [],
   "source": [
    "formid = forms_ref.child(uid).push({'backet_id':'backet_id','uploded':'boolean'})"
   ]
  },
  {
   "cell_type": "code",
   "execution_count": 69,
   "metadata": {},
   "outputs": [],
   "source": [
    "formid = forms_ref.child(uid).push({'backet_url':None,'uploded':False})"
   ]
  },
  {
   "cell_type": "code",
   "execution_count": null,
   "metadata": {},
   "outputs": [],
   "source": []
  },
  {
   "cell_type": "code",
   "execution_count": 70,
   "metadata": {},
   "outputs": [],
   "source": [
    "formid.update({'a':'a'})"
   ]
  },
  {
   "cell_type": "code",
   "execution_count": 73,
   "metadata": {},
   "outputs": [
    {
     "data": {
      "text/plain": [
       "{'a': 'a', 'uploded': False}"
      ]
     },
     "execution_count": 73,
     "metadata": {},
     "output_type": "execute_result"
    }
   ],
   "source": [
    "formid.get()"
   ]
  },
  {
   "cell_type": "code",
   "execution_count": 71,
   "metadata": {},
   "outputs": [
    {
     "ename": "AttributeError",
     "evalue": "module 'firebase_admin.db' has no attribute 'update'",
     "output_type": "error",
     "traceback": [
      "\u001b[0;31m---------------------------------------------------------------------------\u001b[0m",
      "\u001b[0;31mAttributeError\u001b[0m                            Traceback (most recent call last)",
      "\u001b[0;32m<ipython-input-71-facb571991d4>\u001b[0m in \u001b[0;36m<module>\u001b[0;34m\u001b[0m\n\u001b[0;32m----> 1\u001b[0;31m \u001b[0mdb\u001b[0m\u001b[0;34m.\u001b[0m\u001b[0mupdate\u001b[0m\u001b[0;34m(\u001b[0m\u001b[0;34m'/forms/'\u001b[0m\u001b[0;34m)\u001b[0m\u001b[0;34m\u001b[0m\u001b[0;34m\u001b[0m\u001b[0m\n\u001b[0m",
      "\u001b[0;31mAttributeError\u001b[0m: module 'firebase_admin.db' has no attribute 'update'"
     ]
    }
   ],
   "source": [
    "# db.update('/forms/')"
   ]
  }
 ],
 "metadata": {
  "interpreter": {
   "hash": "aee8b7b246df8f9039afb4144a1f6fd8d2ca17a180786b69acc140d282b71a49"
  },
  "kernelspec": {
   "display_name": "Python 3.9.5 64-bit",
   "language": "python",
   "name": "python3"
  },
  "language_info": {
   "codemirror_mode": {
    "name": "ipython",
    "version": 3
   },
   "file_extension": ".py",
   "mimetype": "text/x-python",
   "name": "python",
   "nbconvert_exporter": "python",
   "pygments_lexer": "ipython3",
   "version": "3.9.5"
  },
  "orig_nbformat": 4
 },
 "nbformat": 4,
 "nbformat_minor": 2
}
